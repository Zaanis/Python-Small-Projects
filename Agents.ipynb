{
 "cells": [
  {
   "cell_type": "code",
   "execution_count": 13,
   "id": "18a5dd8b",
   "metadata": {},
   "outputs": [],
   "source": [
    "import random\n",
    "import string\n",
    "\n",
    "from time import sleep\n",
    "from IPython.display import clear_output\n",
    "\n",
    "def add_lists(list1, list2):\n",
    "    output = []\n",
    "    for i in zip(list1, list2):\n",
    "        output.append(sum(i))\n",
    "    return output\n",
    "\n",
    "def check_bounds(position, size):\n",
    "    for i in position:\n",
    "        if i < 0 or i >= size:\n",
    "            return False\n",
    "    return True\n",
    "\n",
    "def play_board(bots, n_iter = 25, grid_size = 5, sleep_time = 0.3):\n",
    "    \"\"\"Run a bot across a board.\n",
    "    \n",
    "    Parameters\n",
    "    ----------\n",
    "    bots : Bot() type or list of Bot() type\n",
    "        One or more bots to be be played on the board\n",
    "    n_iter : int, optional\n",
    "        Number of turns to play on the board. default = 25\n",
    "    grid_size : int, optional\n",
    "        Board size. default = 5\n",
    "    sleep_time : float, optional\n",
    "        Amount of time to pause between turns. default = 0.3.\n",
    "    \"\"\"\n",
    "    \n",
    "    # If input is a single bot, put it in a list so that procedures work\n",
    "    if not type(bots) == list:\n",
    "        bots = [bots]\n",
    "    \n",
    "    # Update each bot to know about the grid_size they are on\n",
    "    for bot in bots:\n",
    "        bot.grid_size = grid_size\n",
    "\n",
    "    for it in range(n_iter):\n",
    "\n",
    "        # Create the grid\n",
    "        grid_list = [['.'] * grid_size for ncols in range(grid_size)]\n",
    "        \n",
    "        # Add bot(s) to the grid\n",
    "        for bot in bots:\n",
    "            grid_list[bot.position[0]][bot.position[1]] = bot.character    \n",
    "\n",
    "        # Clear the previous iteration, print the new grid (as a string), and wait\n",
    "        clear_output(True)\n",
    "        print('\\n'.join([' '.join(lst) for lst in grid_list]))\n",
    "        sleep(sleep_time)\n",
    "\n",
    "        # Update bot position(s) for next turn\n",
    "        for bot in bots:\n",
    "            bot.move()"
   ]
  },
  {
   "cell_type": "code",
   "execution_count": 14,
   "id": "637bdfff",
   "metadata": {},
   "outputs": [],
   "source": [
    "class WanderBot():\n",
    "    def __init__(self, character = 8982):\n",
    "        self.character = chr(character)\n",
    "        self.position = [0,0]\n",
    "        self.moves = [[-1, 0], [1, 0], [0, 1], [0, -1]]\n",
    "        self.grid_size = None\n",
    "    def wander(self):\n",
    "        has_new_pos = False\n",
    "        while not has_new_pos:\n",
    "            move = random.choice(self.moves)\n",
    "            new_pos = add_lists(move, self.position)\n",
    "            has_new_pos = check_bounds(new_pos, self.grid_size)\n",
    "        return new_pos\n",
    "    def move(self):\n",
    "        self.position = self.wander()"
   ]
  },
  {
   "cell_type": "code",
   "execution_count": 15,
   "id": "d9f01e0d",
   "metadata": {},
   "outputs": [
    {
     "name": "stdout",
     "output_type": "stream",
     "text": [
      ". . . . ⌖\n",
      ". . . . .\n",
      ". . . . .\n",
      ". . . . .\n",
      ". . . . .\n"
     ]
    }
   ],
   "source": [
    "bot = WanderBot()\n",
    "play_board(bot, grid_size = 5)"
   ]
  },
  {
   "cell_type": "code",
   "execution_count": 17,
   "id": "e883b254",
   "metadata": {},
   "outputs": [
    {
     "name": "stdout",
     "output_type": "stream",
     "text": [
      ". . . . . . . . . . . . . . . . . . . . . . . . .\n",
      ". ж . . . . . . . . . . . . . . . . . . . . . . .\n",
      "ѧ . . . . . . . . . . . . . . . . . . . . . . . .\n",
      ". . . . . . . . . . . . . . . . . . . . . . . . .\n",
      "ӿ . . . . . . . . . . . . . . . . . . . . . . . .\n",
      ". . . . . . . . . . . . . . . . . . . . . . . . .\n",
      ". . . . . . . . . . . . . . . . . . . . . . . . .\n",
      ". . . . . . . . . . . . . . . . . . . . . . . . .\n",
      ". . . . . . . . . . . . . . . . . . . . . . . . .\n",
      ". . . . . . . . . . . . . . . . . . . . . . . . .\n",
      ". . . . . . . . . . . . . . . . . . . . . . . . .\n",
      ". . . . . . . . . . . . . . . . . . . . . . . . .\n",
      ". . . . . . . . . . . . . . . . . . . . . . . . .\n",
      ". . . . . . . . . . . . . . . . . . . . . . . . .\n",
      ". . . . . . . . . . . . . . . . . . . . . . . . .\n",
      ". . . . . . . . . . . . . . . . . . . . . . . . .\n",
      ". . . . . . . . . . . . . . . . . . . . . . . . .\n",
      ". . . . . . . . . . . . . . . . . . . . . . . . .\n",
      ". . . . . . . . . . . . . . . . . . . . . . . . .\n",
      ". . . . . . . . . . . . . . . . . . . . . . . . .\n",
      ". . . . . . . . . . . . . . . . . . . . . . . . .\n",
      ". . . . . . . . . . . . . . . . . . . . . . . . .\n",
      ". . . . . . . . . . . . . . . . . . . . . . . . .\n",
      ". . . . . . . . . . . . . . . . . . . . . . . . .\n",
      ". . . . . . . . . . . . . . . . . . . . . . . . .\n"
     ]
    }
   ],
   "source": [
    "grid_n = 15\n",
    "iter_n = 25\n",
    "x = WanderBot(1078)\n",
    "y = WanderBot(1127)\n",
    "z = WanderBot(1279)\n",
    "bots_list = [x, y, z]\n",
    "play_board(bots_list, grid_n, iter_n)"
   ]
  },
  {
   "cell_type": "code",
   "execution_count": null,
   "id": "e5e135e3",
   "metadata": {},
   "outputs": [],
   "source": []
  }
 ],
 "metadata": {
  "kernelspec": {
   "display_name": "Python 3 (ipykernel)",
   "language": "python",
   "name": "python3"
  },
  "language_info": {
   "codemirror_mode": {
    "name": "ipython",
    "version": 3
   },
   "file_extension": ".py",
   "mimetype": "text/x-python",
   "name": "python",
   "nbconvert_exporter": "python",
   "pygments_lexer": "ipython3",
   "version": "3.9.5"
  }
 },
 "nbformat": 4,
 "nbformat_minor": 5
}
