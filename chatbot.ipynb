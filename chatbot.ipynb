{
 "cells": [
  {
   "cell_type": "code",
   "execution_count": 1,
   "id": "a5b9759d",
   "metadata": {},
   "outputs": [],
   "source": [
    "import string\n",
    "import random\n",
    "import nltk"
   ]
  },
  {
   "cell_type": "code",
   "execution_count": 2,
   "id": "f5985876",
   "metadata": {},
   "outputs": [],
   "source": [
    "def div_3(data_list):\n",
    "    output = []\n",
    "    for i in data_list:\n",
    "        if i % 3 == 0:\n",
    "            output.append(i)\n",
    "    return output"
   ]
  },
  {
   "cell_type": "code",
   "execution_count": 7,
   "id": "bbbf93fd",
   "metadata": {},
   "outputs": [],
   "source": [
    "def is_even(data_list):\n",
    "    output_list = []\n",
    "    for i in data_list:\n",
    "        if i % 2 == 0:\n",
    "            output_list.append(True)\n",
    "        else:\n",
    "            output_list.append(False)\n",
    "    return output_list"
   ]
  },
  {
   "cell_type": "code",
   "execution_count": 8,
   "id": "f06c8a24",
   "metadata": {},
   "outputs": [],
   "source": [
    "def is_question(input_string):\n",
    "    output = True\n",
    "    if '?' in input_string:\n",
    "        output = True\n",
    "    else:\n",
    "        output = False\n",
    "    return output"
   ]
  },
  {
   "cell_type": "code",
   "execution_count": 12,
   "id": "9ca07bdc",
   "metadata": {},
   "outputs": [],
   "source": [
    "def prepare_text(input_string):\n",
    "    temp_string = input_string.lower()\n",
    "    temp_string = remove_punctuation(temp_string)\n",
    "    out_list = temp_string.split()\n",
    "    return out_list"
   ]
  },
  {
   "cell_type": "code",
   "execution_count": 16,
   "id": "a6c79128",
   "metadata": {},
   "outputs": [],
   "source": [
    "def remove_punctuation(input_string):\n",
    "    out_string = ''\n",
    "    for i in input_string:\n",
    "        if i not in string.punctuation:\n",
    "            out_string += i\n",
    "    return out_string"
   ]
  },
  {
   "cell_type": "code",
   "execution_count": 20,
   "id": "29a91148",
   "metadata": {},
   "outputs": [],
   "source": [
    "def end_chat(input_list):\n",
    "    if 'quit' in input_list:\n",
    "        output = True\n",
    "    else:\n",
    "        output = False\n",
    "    return output"
   ]
  },
  {
   "cell_type": "code",
   "execution_count": 24,
   "id": "28c582f3",
   "metadata": {},
   "outputs": [],
   "source": [
    "def selector(input_list, check_list, return_list):\n",
    "    output = None\n",
    "    for i in input_list:\n",
    "        if i in check_list:\n",
    "            output = random.choice(return_list)\n",
    "            break\n",
    "    return output"
   ]
  },
  {
   "cell_type": "code",
   "execution_count": 28,
   "id": "42bee335",
   "metadata": {},
   "outputs": [],
   "source": [
    "def is_in_list(list_one, list_two):\n",
    "    \"\"\"Check if any element of list_one is in list_two.\"\"\"\n",
    "    \n",
    "    for element in list_one:\n",
    "        if element in list_two:\n",
    "            return True\n",
    "    return False\n",
    "\n",
    "def find_in_list(list_one, list_two):\n",
    "    \"\"\"Find and return an element from list_one that is in list_two, or None otherwise.\"\"\"\n",
    "    \n",
    "    for element in list_one:\n",
    "        if element in list_two:\n",
    "            return element\n",
    "    return None"
   ]
  },
  {
   "cell_type": "code",
   "execution_count": 32,
   "id": "3ae284f6",
   "metadata": {},
   "outputs": [],
   "source": [
    "def respond_echo(input_string, number_of_echoes, spacer):\n",
    "    echo_output = ''\n",
    "    if input_string != None:\n",
    "        for i in range(number_of_echoes):\n",
    "            echo_output += input_string + spacer\n",
    "    elif input_string == None:\n",
    "        echo_output = None\n",
    "    return echo_output"
   ]
  },
  {
   "cell_type": "code",
   "execution_count": 33,
   "id": "3160c68f",
   "metadata": {},
   "outputs": [],
   "source": [
    "GREETINGS_IN = ['hello', 'hi', 'hey', 'hola', 'welcome', 'bonjour', 'greetings']\n",
    "GREETINGS_OUT = [\"Hello, it's nice to talk to you!\", 'Nice to meet you!',  \"Hey - Let's chat!\"]\n",
    "\n",
    "COMP_IN = ['python', 'code', 'computer', 'algorithm', ]\n",
    "COMP_OUT = [\"Python is what I'm made of.\", \\\n",
    "            \"Did you know I'm made of code!?\", \\\n",
    "            \"Computers are so magical\", \\\n",
    "            \"Do you think I'll pass the Turing test?\"]\n",
    "\n",
    "PEOPLE_IN = ['turing', 'hopper', 'neumann', 'lovelace']\n",
    "PEOPLE_OUT = ['was awesome!', 'did so many important things!', 'is someone you should look up :).']\n",
    "PEOPLE_NAMES = {'turing': 'Alan', 'hopper': 'Grace', 'neumann': 'John von', 'lovelace': 'Ada'}\n",
    "\n",
    "JOKES_IN = ['funny', 'hilarious', 'ha', 'haha', 'hahaha', 'lol']\n",
    "JOKES_OUT = ['ha', 'haha', 'lol'] \n",
    "\n",
    "NONO_IN = ['matlab', 'java', 'C++']\n",
    "NONO_OUT = [\"I'm sorry, I don't want to talk about\"]\n",
    "\n",
    "UNKNOWN = ['Good.', 'Okay', 'Huh?', 'Yeah!', 'Thanks!']\n",
    "\n",
    "QUESTION = \"I'm too shy to answer questions. What do you want to talk about?\""
   ]
  },
  {
   "cell_type": "code",
   "execution_count": 34,
   "id": "2d5b807e",
   "metadata": {},
   "outputs": [],
   "source": [
    "def have_a_chat():\n",
    "    \"\"\"Main function to run our chatbot.\"\"\"\n",
    "    \n",
    "    chat = True\n",
    "    while chat:\n",
    "\n",
    "        # Get a message from the user\n",
    "        msg = input('INPUT :\\t')\n",
    "        out_msg = None\n",
    "\n",
    "        # Check if the input is a question\n",
    "        question = is_question(msg)\n",
    "\n",
    "        # Prepare the input message\n",
    "        msg = prepare_text(msg)\n",
    "\n",
    "        # Check for an end msg \n",
    "        if end_chat(msg):\n",
    "            out_msg = 'Bye!'\n",
    "            chat = False\n",
    "\n",
    "        # Check for a selection of topics that we have defined to respond to\n",
    "        #   Here, we will check for a series of topics that we have designed to answer to\n",
    "        if not out_msg:\n",
    "\n",
    "            # Initialize to collect a list of possible outputs\n",
    "            outs = []\n",
    "\n",
    "            # Check if the input looks like a greeting, add a greeting output if so\n",
    "            outs.append(selector(msg, GREETINGS_IN, GREETINGS_OUT))\n",
    "\n",
    "            # Check if the input looks like a computer thing, add a computer output if so\n",
    "            outs.append(selector(msg, COMP_IN, COMP_OUT))\n",
    "\n",
    "            # Check if the input mentions a person that is specified, add a person output if so\n",
    "            if is_in_list(msg, PEOPLE_IN):\n",
    "                name = find_in_list(msg, PEOPLE_IN)\n",
    "                outs.append(list_to_string([PEOPLE_NAMES[name], name.capitalize(),\n",
    "                                            selector(msg, PEOPLE_IN, PEOPLE_OUT)], ' '))\n",
    "\n",
    "            # Check if the input looks like a joke, add a repeat joke output if so\n",
    "            outs.append(respond_echo(selector(msg, JOKES_IN, JOKES_OUT), 3, ''))\n",
    "\n",
    "            # Check if the input has some words we don't want to talk about, say that, if so\n",
    "            if is_in_list(msg, NONO_IN):\n",
    "                outs.append(list_to_string([selector(msg, NONO_IN, NONO_OUT), find_in_list(msg, NONO_IN)], ' '))\n",
    "\n",
    "            # IF YOU WANTED TO ADD MORE TOPICS TO RESPOND TO, YOU COULD ADD THEM IN HERE\n",
    "\n",
    "            # We could have selected multiple outputs from the topic search above (if multiple return possible outputs)\n",
    "            #   We also might have appended None in some cases, meaning we don't have a reply\n",
    "            #   To deal with this, we are going to randomly select an output from the set of outputs that are not None\n",
    "            options = list(filter(None, outs))\n",
    "            if options:\n",
    "                out_msg = random.choice(options)\n",
    "\n",
    "        # If we don't have an output yet, but the input was a question, return msg related to it being a question\n",
    "        if not out_msg and question:\n",
    "            out_msg = QUESTION\n",
    "\n",
    "        # Catch-all to say something if msg not caught & processed so far\n",
    "        if not out_msg:\n",
    "            out_msg = random.choice(UNKNOWN)\n",
    "\n",
    "        print('OUTPUT:', out_msg)"
   ]
  },
  {
   "cell_type": "code",
   "execution_count": null,
   "id": "b911b9b5",
   "metadata": {},
   "outputs": [
    {
     "name": "stdout",
     "output_type": "stream",
     "text": [
      "INPUT :\td\n",
      "OUTPUT: Good.\n",
      "INPUT :\thi\n",
      "OUTPUT: Hey - Let's chat!\n"
     ]
    }
   ],
   "source": [
    "have_a_chat()"
   ]
  },
  {
   "cell_type": "code",
   "execution_count": null,
   "id": "98cc5071",
   "metadata": {},
   "outputs": [],
   "source": []
  }
 ],
 "metadata": {
  "kernelspec": {
   "display_name": "Python 3 (ipykernel)",
   "language": "python",
   "name": "python3"
  },
  "language_info": {
   "codemirror_mode": {
    "name": "ipython",
    "version": 3
   },
   "file_extension": ".py",
   "mimetype": "text/x-python",
   "name": "python",
   "nbconvert_exporter": "python",
   "pygments_lexer": "ipython3",
   "version": "3.9.5"
  }
 },
 "nbformat": 4,
 "nbformat_minor": 5
}
